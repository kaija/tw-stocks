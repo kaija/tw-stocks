{
 "cells": [
  {
   "cell_type": "code",
   "execution_count": 4,
   "metadata": {
    "collapsed": false
   },
   "outputs": [],
   "source": [
    "import pandas as pd\n",
    "import numpy as np\n",
    "df = pd.DataFrame.from_csv('../tw-stock-raw/by-stock/2330.csv')\n",
    "df = df.rename(columns={'OP': 'Open', 'CP': 'Close', 'HP': 'High', 'LP':'Low', 'TV': 'Volume'})\n",
    "del df['TC']\n",
    "del df['TO']\n",
    "del df['RD']\n",
    "del df['DF']\n",
    "df = df.tail(20)\n"
   ]
  },
  {
   "cell_type": "code",
   "execution_count": 6,
   "metadata": {
    "collapsed": false
   },
   "outputs": [
    {
     "data": {
      "image/png": "[encoded data removed]",
      "text/plain": [
       "<matplotlib.figure.Figure at 0x7fb8f4423b90>"
      ]
     },
     "metadata": {},
     "output_type": "display_data"
    }
   ],
   "source": [
    "%matplotlib inline\n",
    "import matplotlib.pyplot as plt\n",
    "from matplotlib.dates import DateFormatter, WeekdayLocator,DayLocator, MONDAY\n",
    "from matplotlib.finance import quotes_historical_yahoo_ohlc, candlestick_ohlc\n",
    "import matplotlib.dates as mdates\n",
    "\n",
    "df = df.reset_index()\n",
    "df['date'] = df['date'].apply(lambda d: mdates.date2num(d.to_pydatetime()))\n",
    "\n",
    "fig, ax = plt.subplots()\n",
    "ax.xaxis_date()\n",
    "ax.xaxis.set_major_formatter(mdates.DateFormatter(\"%Y-%m-%d\"))\n",
    "plt.xticks(rotation=45)\n",
    "plt.xlabel(\"Date\")\n",
    "plt.ylabel(\"Price\")\n",
    "plt.title(\"TSMC\")\n",
    "candlestick_ohlc(ax, df.values, width=.6, colorup='g', alpha =.4);\n",
    "\n",
    "\n",
    "\n",
    "\n"
   ]
  },
  {
   "cell_type": "code",
   "execution_count": 7,
   "metadata": {
    "collapsed": false
   },
   "outputs": [
    {
     "data": {
      "image/png": "[encoded data removed]",
      "text/plain": [
       "<matplotlib.figure.Figure at 0x7fb8f42d3ed0>"
      ]
     },
     "metadata": {},
     "output_type": "display_data"
    }
   ],
   "source": [
    "N = 5\n",
    "menMeans = (20, 35, 30, 35, 27)\n",
    "womenMeans = (25, 32, 34, 20, 25)\n",
    "menStd = (2, 3, 4, 1, 2)\n",
    "womenStd = (3, 5, 2, 3, 3)\n",
    "ind = np.arange(N)    # the x locations for the groups\n",
    "width = 0.35       # the width of the bars: can also be len(x) sequence\n",
    "\n",
    "p1 = plt.bar(ind, menMeans, width, color='#d62728', yerr=menStd)\n",
    "p2 = plt.bar(ind, womenMeans, width,\n",
    "             bottom=menMeans, yerr=womenStd)\n",
    "\n",
    "plt.ylabel('Scores')\n",
    "plt.title('Scores by group and gender')\n",
    "plt.xticks(ind, ('G1', 'G2', 'G3', 'G4', 'G5'))\n",
    "plt.yticks(np.arange(0, 81, 10))\n",
    "plt.legend((p1[0], p2[0]), ('Men', 'Women'))\n",
    "\n",
    "plt.show()"
   ]
  },
  {
   "cell_type": "code",
   "execution_count": 36,
   "metadata": {
    "collapsed": false
   },
   "outputs": [
    {
     "name": "stdout",
     "output_type": "stream",
     "text": [
      "[0.3, 0.31, 10.13, 9.84, 4.54, 4.62, 2.11, 2.3, 2.1, 2.05, 1.89, 1.78, 1.11, 0.97, 1.09, 1.08, 3.3, 3.6, 2.81, 2.93, 4.07, 3.97, 2.3, 1.89, 3.22, 3.31, 0.92, 1.8, 60.03, 59.48]\n"
     ]
    },
    {
     "name": "stderr",
     "output_type": "stream",
     "text": [
      "/home/kaija/anaconda2/lib/python2.7/site-packages/matplotlib/axes/_axes.py:545: UserWarning: No labelled objects found. Use label='...' kwarg on individual plots.\n",
      "  warnings.warn(\"No labelled objects found. \"\n"
     ]
    },
    {
     "data": {
      "image/png": "[encoded data removed]",
      "text/plain": [
       "<matplotlib.figure.Figure at 0x7fb8ea96a950>"
      ]
     },
     "metadata": {},
     "output_type": "display_data"
    }
   ],
   "source": [
    "import csv\n",
    "import pylab as P\n",
    "with open('./3653_tdcc.csv', 'rb') as csvfile:\n",
    "    spamreader = csv.reader(csvfile, delimiter=',', quotechar='\"')\n",
    "    #print spamreader\n",
    "    types = ()\n",
    "    dates = []\n",
    "    index = 0\n",
    "    c1 = []\n",
    "    c2 = []\n",
    "    c3 = []\n",
    "    c4 = []\n",
    "    c5 = []\n",
    "    c6 = []\n",
    "    c7 = []\n",
    "    c8 = []\n",
    "    c9 = []\n",
    "    c10 = []\n",
    "    c11 = []\n",
    "    c12 = []\n",
    "    c13 = []\n",
    "    c14 = []\n",
    "    c15 = []\n",
    "    tt = ('1-999','1,000-5,000','5,001-10,000','10,001-15,000','15,001-20,000','20,001-30,000','30,001-40,000','40,001-50,000','50,001-100,000','100,001-200,000','200,001-400,000','400,001-600,000','600,001-800,000','800,001-1,000,000','1,000,001')\n",
    "\n",
    "#1-999\n",
    "#1,000-5,000\n",
    "#5,001-10,000\n",
    "#10,001-15,000\n",
    "#15,001-20,000\n",
    "#20,001-30,000\n",
    "#30,001-40,000\n",
    "#40,001-50,000\n",
    "#50,001-100,000\n",
    "#100,001-200,000\n",
    "#200,001-400,000\n",
    "#400,001-600,000\n",
    "#600,001-800,000\n",
    "#800,001-1,000,000\n",
    "#1,000,001以上\n",
    "    selected = 3\n",
    "    wow = []\n",
    "    for row in spamreader:\n",
    "        if index == 0:\n",
    "            types = tuple(row)\n",
    "        else:\n",
    "            ds = row[0].split('_')\n",
    "            if ds[0] not in dates:\n",
    "                dates.append(ds[0])\n",
    "            #print ds[1]\n",
    "            if ds[1] == '1-999':\n",
    "                c1.append(float(row[selected]))\n",
    "            if ds[1] == '1,000-5,000':\n",
    "                c2.append(float(row[selected]))\n",
    "            if ds[1] == '5,001-10,000':\n",
    "                c3.append(float(row[selected]))\n",
    "            if ds[1] == '10,001-15,000':\n",
    "                c4.append(float(row[selected]))\n",
    "            if ds[1] == '15,001-20,000':\n",
    "                c5.append(float(row[selected]))\n",
    "            if ds[1] == '20,001-30,000':\n",
    "                c6.append(float(row[selected]))\n",
    "            if ds[1] == '30,001-40,000':\n",
    "                c7.append(float(row[selected]))\n",
    "            if ds[1] == '40,001-50,000':\n",
    "                c8.append(float(row[selected]))\n",
    "            if ds[1] == '50,001-100,000':\n",
    "                c9.append(float(row[selected]))\n",
    "            if ds[1] == '100,001-200,000':\n",
    "                c10.append(float(row[selected]))\n",
    "            if ds[1] == '200,001-400,000':\n",
    "                c11.append(float(row[selected]))\n",
    "            if ds[1] == '400,001-600,000':\n",
    "                c12.append(float(row[selected]))\n",
    "            if ds[1] == '600,001-800,000':\n",
    "                c13.append(float(row[selected]))\n",
    "            if ds[1] == '800,001-1,000,000':\n",
    "                c14.append(float(row[selected]))\n",
    "            if ds[1] == '1,000,001以上':\n",
    "                c15.append(float(row[selected]))\n",
    "            wow.append(float(row[selected]))\n",
    "        index = index + 1\n",
    "        if index == 31:\n",
    "            break\n",
    "    c1.extend(c2)\n",
    "    c1.extend(c3)\n",
    "    c1.extend(c4)\n",
    "    c1.extend(c5)\n",
    "    c1.extend(c6)\n",
    "    c1.extend(c7)\n",
    "    c1.extend(c8)\n",
    "    c1.extend(c9)\n",
    "    c1.extend(c10)\n",
    "    c1.extend(c11)\n",
    "    c1.extend(c12)\n",
    "    c1.extend(c13)\n",
    "    c1.extend(c14)\n",
    "    c1.extend(c15)\n",
    "    P.figure()\n",
    "    \n",
    "    print c1\n",
    "    P.hist(wow, 15, histtype='bar',stacked=True, normed = 1)\n",
    "    P.legend()\n",
    "    \n",
    "\n",
    "    #plt.ylabel('Distribution')\n",
    "    #plt.title('Stock distribution')\n",
    "    #plt.xticks(ind, tuple(dates))\n",
    "    #plt.yticks(np.arange(0, 100, 10))\n",
    "    ##plt.legend((p1[0], p2[0], p3[0], p4[0], p5[0], p6[0], p7[0], p8[0], p9[0], p10[0], p11[0], p12[0], p13[0], p14[0], p15[0]), tt)\n",
    "    #plt.show()"
   ]
  },
  {
   "cell_type": "code",
   "execution_count": null,
   "metadata": {
    "collapsed": true
   },
   "outputs": [],
   "source": []
  }
 ],
 "metadata": {
  "kernelspec": {
   "display_name": "Python 2",
   "language": "python",
   "name": "python2"
  },
  "language_info": {
   "codemirror_mode": {
    "name": "ipython",
    "version": 2
   },
   "file_extension": ".py",
   "mimetype": "text/x-python",
   "name": "python",
   "nbconvert_exporter": "python",
   "pygments_lexer": "ipython2",
   "version": "2.7.13"
  }
 },
 "nbformat": 4,
 "nbformat_minor": 2
}
